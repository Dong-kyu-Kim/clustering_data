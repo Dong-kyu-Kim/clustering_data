import pandas as pd
import matplotlib.pyplot as plt
from pathlib import Path


cluster_df = pd.read_csv(
    Path("./exported_resources/restaurant_scaled_and_clustered.csv")
)

cluster_df


cluster_df.info()


cluster_0 = cluster_df.loc[cluster_df["cluster"] == 0, "rating":"parking_availability_yes"]
cluster_0_avg = pd.DataFrame(cluster_0.mean())
cluster_0_avg = cluster_0_avg.transpose()
cluster_0_avg.to_csv(Path("./exported_resources/cluster_0_avg.csv"))
cluster_0_avg


cluster_0_std = pd.DataFrame(cluster_0.std())
cluster_0_std = cluster_0_std.transpose()
cluster_0_std.to_csv(Path("./exported_resources/cluster_0_std.csv"))
cluster_0_std


cluster_1 = cluster_df.loc[cluster_df["cluster"] == 1, "rating":"parking_availability_yes"]
cluster_1_avg = pd.DataFrame(cluster_1.mean())
cluster_1_avg = cluster_1_avg.transpose()
cluster_1_avg.to_csv(Path("./exported_resources/cluster_1_avg.csv"))
cluster_1_avg


cluster_1_std = pd.DataFrame(cluster_1.std())
cluster_1_std = cluster_1_std.transpose()
cluster_1_std.to_csv(Path("./exported_resources/cluster_1_std.csv"))
cluster_1_std



